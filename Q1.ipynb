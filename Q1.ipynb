{
 "cells": [
  {
   "cell_type": "code",
   "execution_count": 4,
   "metadata": {},
   "outputs": [],
   "source": [
    "import numpy as np \n",
    "\n",
    "def determinant(matrix , n): \n",
    "    if n == 1:\n",
    "        return matrix[0][0]\n",
    "    if n == 2:\n",
    "        return matrix[0][0] * matrix[1][1] - matrix[0][1] * matrix[1][0]\n",
    "    det = 0\n",
    "    for j in range(n):\n",
    "        cofactor = []\n",
    "        for row in range(1,n):\n",
    "            temp = []\n",
    "            for col in range(n):\n",
    "                if col != j:\n",
    "                    temp.append(matrix[row][col])\n",
    "            cofactor.append(temp)\n",
    "        det += (-1) ** j * matrix[0][j] * determinant(cofactor ,n-1)\n",
    "    return det\n"
   ]
  },
  {
   "cell_type": "markdown",
   "metadata": {},
   "source": [
    "برای سوال اول از ما خواسته شده بود تا دستگاه معمادلات را حل کنیم\n",
    "برای حل معادله از طریق وارون ضرایب نیاز به تابع دترمینان هستیم که یک ماتریس ان در ان را محاسبه کند\n",
    " روش حل آن به شکل بازگشتی می‌باشد شروط پایه شامل اندازه ماتریس ۱ ، یا ۲ در ۲ بودن است به طوری که اگر یک در یک باشد خود عدد و دو در دو به صورت حل پایه ای آن دترمینان آن را حساب می‌کنیم.\n",
    "برای محسابه دترمینان ماتریس های بزرگتر ابتدا با پیمایش روی سطر اول آن و حساب کردن کهاد متناظر با هر عضو سطر اول و ضرب آن در -۱ به توان جمع سطر و ستون آن را حساب میکنیم . درنهایت دترمینان ما مجموع ترم های گفته شده است. "
   ]
  },
  {
   "cell_type": "code",
   "execution_count": 5,
   "metadata": {},
   "outputs": [],
   "source": [
    "\n",
    "def cramer (coefficientsArray , constantsArray , n):\n",
    "    result = np.zeros(n)\n",
    "    for i in range (n):\n",
    "        coefficientsArray_copy = coefficientsArray.copy()\n",
    "        for j in range (n):\n",
    "            coefficientsArray_copy[j][i] = constantsArray[j]\n",
    "        result[i] = (determinant(coefficientsArray_copy , n)) / (determinant(coefficientsArray, n))\n",
    "    return result \n"
   ]
  },
  {
   "cell_type": "markdown",
   "metadata": {},
   "source": [
    "تابع کرامر بدین شکل است که ابتدا یک کپی از ماتریس ضرایب را می‌سازد تا هنگام محاسبه مقادیر مختلف جواب ها با از دست رفتن اطلاعات مواجه نشویم. هر جواب ما حاصل از قرار دادن ثابت های معادله در ستون متناظر با شماره جواب است که حاصل تقسیم دترمینان ساخته شده بر دترمینان ماتریس ضرایب است که همیشه ثابت است"
   ]
  },
  {
   "cell_type": "code",
   "execution_count": 6,
   "metadata": {},
   "outputs": [],
   "source": [
    "\n",
    "\n",
    "import numpy as np\n",
    "\n",
    "def matrix_inverse(matrix , n):\n",
    "    det = determinant(matrix , n)\n",
    "    if det == 0:\n",
    "        return \"you can not inverse this matrix\"\n",
    "\n",
    "    inverse = np.zeros_like(matrix, dtype=float)\n",
    "    adjugate = np.zeros_like(matrix, dtype=float)\n",
    "\n",
    "    for i in range(n):\n",
    "        for j in range(n):\n",
    "            adjugate[j, i] = (-1) ** (i + j) * determinant(matrix[np.arange(n) != i][:, np.arange(n) != j] , n-1)\n",
    "    \n",
    "    inverse = adjugate / det\n",
    "    return inverse\n"
   ]
  },
  {
   "cell_type": "markdown",
   "metadata": {},
   "source": [
    "برای ادامه محاسبه از طریق وارون ضرایب نیاز به محاسبه این ماتریس هستیم در ابتدا درترمینان ماتریس ضرایب را محاسبه میکنیم اگر حاصل دترمینان بود می دانیم که ماتریس وارون پذیر نمی‌باشد و معادله جوابی ندارد.در غیراینصورت با محاسبه ماتریس الحاقی به شکلی که تمامی کهاد های اعضا ماتریس را حساب کرده و سپس ماتریس حاصل را ترانهاده کنیم بدست می‌اید و ماتریس حاصل را تقسیم بر قرینه وارون دترمینان ضرایب می‌کنیم سپس در ادامه تابع ضرایب را با ماتریس وارون ضرب میکنیم تا حاصل بدست آید.\n"
   ]
  },
  {
   "cell_type": "code",
   "execution_count": 9,
   "metadata": {},
   "outputs": [
    {
     "name": "stdout",
     "output_type": "stream",
     "text": [
      "[[ 2.  4.  0.  8.]\n",
      " [-1.  3.  8.  2.]\n",
      " [ 3.  9.  5.  2.]\n",
      " [10.  7. 12.  5.]]\n",
      "[22.  4. 14.  0.]\n",
      "cramer  [-1.32835821  2.07462687 -0.95522388  2.04477612]\n",
      "inverse way  [-1.32835821  2.07462687 -0.95522388  2.04477612]\n"
     ]
    }
   ],
   "source": [
    "\n",
    "\n",
    "def inverse_way(coefficientsArray , constantsArray , n):\n",
    "    inverse = matrix_inverse(coefficientsArray , n)\n",
    "    return np.dot(inverse, constantsArray)\n",
    "\n",
    "\n",
    "numberOfVariables = int(input('Enter the number of variables: '))\n",
    "coefficientsArray = np.zeros((numberOfVariables, numberOfVariables))\n",
    "constantsArray = np.zeros(numberOfVariables)\n",
    "\n",
    "for i in range (1,numberOfVariables+1):\n",
    "    coefficients = list(map(int, input('Enter the coefficients of equation ' + str(i) + ' :').split()))\n",
    "    for j in range (numberOfVariables) :\n",
    "        coefficientsArray[i-1][j] = coefficients[j]\n",
    "    constant = float(input('Enter the constant of equation ' + str(i) + ' :'))\n",
    "    constantsArray[i-1] = constant\n",
    "\n",
    "print(coefficientsArray)\n",
    "print(constantsArray)\n",
    "print(\"cramer \" , cramer(coefficientsArray , constantsArray , numberOfVariables))\n",
    "print(\"inverse way \" ,inverse_way(coefficientsArray , constantsArray , numberOfVariables))"
   ]
  },
  {
   "cell_type": "markdown",
   "metadata": {},
   "source": [
    "  خروجی های سوال ۱ در عکس های قرار داده شد در فایل قابل مشاهده است که هر دو روش به جواب یکسان میرسند"
   ]
  }
 ],
 "metadata": {
  "kernelspec": {
   "display_name": "Python 3",
   "language": "python",
   "name": "python3"
  },
  "language_info": {
   "codemirror_mode": {
    "name": "ipython",
    "version": 3
   },
   "file_extension": ".py",
   "mimetype": "text/x-python",
   "name": "python",
   "nbconvert_exporter": "python",
   "pygments_lexer": "ipython3",
   "version": "3.10.7"
  }
 },
 "nbformat": 4,
 "nbformat_minor": 2
}
