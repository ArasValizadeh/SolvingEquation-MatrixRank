{
 "cells": [
  {
   "cell_type": "code",
   "execution_count": 4,
   "metadata": {},
   "outputs": [
    {
     "name": "stdout",
     "output_type": "stream",
     "text": [
      "here2 [[ 1.   0.6  0.5  0.3]\n",
      " [ 0.   1.8  6.   5.4]\n",
      " [ 0.   4.2 -3.  -0.4]]\n",
      "here2 [[  1.           0.6          0.5          0.3       ]\n",
      " [  0.           1.           3.33333333   3.        ]\n",
      " [  0.           0.         -17.         -13.        ]]\n",
      "here2 [[ 1.          0.6         0.5         0.3       ]\n",
      " [ 0.          1.          3.33333333  3.        ]\n",
      " [-0.         -0.          1.          0.76470588]]\n",
      "The rank of matrix is : 3\n"
     ]
    }
   ],
   "source": [
    "import numpy as np\n",
    "\n",
    "def rank(matrix , rows , cols):\n",
    "    A = matrix.copy()\n",
    "    rank = 0\n",
    "    for i in range(rows):\n",
    "        for j in range(cols):\n",
    "            if A[i, j] != 0:\n",
    "                rank += 1\n",
    "                A[i] /= A[i, j]\n",
    "                # print(\"here\" , A)\n",
    "                for k in range(i + 1, rows):\n",
    "                    A[k] -= A[i] * A[k, j]\n",
    "                print(\"here2\" ,A)\n",
    "                break\n",
    "    return rank\n",
    "\n",
    "rows = int(input(\"Enter the number of rows :\"))\n",
    "cols = int(input(\"Enter the number of cols :\"))\n",
    "matrix = np.zeros((rows,cols))\n",
    "for i in range(rows):\n",
    "    row = list(map(int, input().split()))\n",
    "    matrix[i] = row\n",
    "\n",
    "print(\"The rank of matrix is :\",rank(matrix,rows,cols))\n"
   ]
  },
  {
   "cell_type": "markdown",
   "metadata": {},
   "source": [
    "برای محسابه رنک یک ماتریس ابتدا ان را به فرم اچلون در می‌آوریم ( با عملگر های سطری ماتریس) سپس حاصل رنک ماتریس برابر است با تعداد سطر های غیرصفر. در ابتدا این تابع ماتریس ورودی را گرفته و بدین ترتیب عمل می کند در هر سطر ماتریس به دنبال اولین عدد غیر صفر می گردد در اون صورت چون این سطر قبلا توسط سطر های دیگر صفر نشده رنک را یکی زیاد میکند پس از نرمال سازی سطر مورد نظر که برابر است با تقسیم کل سطر بر اندازه اولین عدد غیر صفر سطر بدست می ‌آید سپس تمامی سطر های زیری را متناسب با جایگاه یک سطر اولیه اپدیت میکنیم بدین شکل که عضوی که زیر عدد یک سطر اولیه وجود دارد توسط عملگر های سطری به صفر تبدیل شود و طبعا مقدار بقیه سطر همزمان با این عملکرد اپدیت شود. در نهایت با خروجی دادن مقدار رنک به خواسته سوال می‌رسیم.\n",
    "\n",
    "\n",
    "برای فهم بهتر اتفاقات گفته شده داخل تابع رنک دو پرینت قرار داده شده که نحوه عملیات های سطری را برای تبدیل به فرم اچلون در خروجی نمایش می‌دهد.\n"
   ]
  },
  {
   "cell_type": "markdown",
   "metadata": {},
   "source": []
  },
  {
   "cell_type": "markdown",
   "metadata": {},
   "source": []
  }
 ],
 "metadata": {
  "kernelspec": {
   "display_name": "Python 3",
   "language": "python",
   "name": "python3"
  },
  "language_info": {
   "codemirror_mode": {
    "name": "ipython",
    "version": 3
   },
   "file_extension": ".py",
   "mimetype": "text/x-python",
   "name": "python",
   "nbconvert_exporter": "python",
   "pygments_lexer": "ipython3",
   "version": "3.10.7"
  }
 },
 "nbformat": 4,
 "nbformat_minor": 2
}
